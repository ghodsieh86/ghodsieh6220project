{
  "nbformat": 4,
  "nbformat_minor": 0,
  "metadata": {
    "colab": {
      "provenance": [],
      "include_colab_link": true
    },
    "kernelspec": {
      "name": "python3",
      "display_name": "Python 3"
    },
    "language_info": {
      "name": "python"
    }
  },
  "cells": [
    {
      "cell_type": "markdown",
      "metadata": {
        "id": "view-in-github",
        "colab_type": "text"
      },
      "source": [
        "<a href=\"https://colab.research.google.com/github/ghodsieh86/ghodsieh6220project/blob/main/6300.ipynb\" target=\"_parent\"><img src=\"https://colab.research.google.com/assets/colab-badge.svg\" alt=\"Open In Colab\"/></a>"
      ]
    },
    {
      "cell_type": "code",
      "execution_count": 3,
      "metadata": {
        "id": "PVJD0YdNxDnv"
      },
      "outputs": [],
      "source": [
        "import numpy as np\n",
        "import pandas as pd\n",
        "from statsmodels.tsa.holtwinters import ExponentialSmoothing\n",
        "from sklearn.metrics import mean_absolute_error\n",
        "import itertools\n",
        "import matplotlib.pyplot as plt\n",
        "import matplotlib.pyplot as plt"
      ]
    },
    {
      "cell_type": "markdown",
      "source": [
        "Real demand data"
      ],
      "metadata": {
        "id": "Cy-dCx09xjXa"
      }
    },
    {
      "cell_type": "code",
      "source": [
        "demand_data = [1.465, 1.457, 1.832, 2.009, 2.131, 2.012, 1.893, 1.821, 1.585, 1.6, 1.756, 2.021,\n",
        "               1.752, 1.824, 1.89, 1.998, 1.965, 1.91, 1.894, 1.653, 1.896, 1.688, 1.932, 2.01]"
      ],
      "metadata": {
        "id": "UKB5k6SNxn9_"
      },
      "execution_count": 4,
      "outputs": []
    },
    {
      "cell_type": "markdown",
      "source": [
        "Time index"
      ],
      "metadata": {
        "id": "zWNJo3G5x0gl"
      }
    },
    {
      "cell_type": "code",
      "source": [
        "time_index = pd.date_range(start='2022-01-01', periods=len(demand_data), freq='M')"
      ],
      "metadata": {
        "id": "8moAVnPFx2n9"
      },
      "execution_count": 5,
      "outputs": []
    },
    {
      "cell_type": "markdown",
      "source": [
        "Pandas datafram with demand data and time index"
      ],
      "metadata": {
        "id": "uyWU0ZMJyAQp"
      }
    },
    {
      "cell_type": "code",
      "source": [
        "df = pd.DataFrame({'demand': demand_data}, index=time_index)"
      ],
      "metadata": {
        "id": "AIn4LXnWyFUG"
      },
      "execution_count": 6,
      "outputs": []
    },
    {
      "cell_type": "markdown",
      "source": [
        "Function to perform holtwinter demand forcasting with given parameters"
      ],
      "metadata": {
        "id": "TY4i3lo_yMKp"
      }
    },
    {
      "cell_type": "code",
      "source": [
        "def holt_winters_forecast(alpha, beta, gamma):\n",
        "    model = ExponentialSmoothing(df['demand'], trend='add', seasonal='add', seasonal_periods=12)\n",
        "    result = model.fit(smoothing_level=alpha, smoothing_slope=beta, smoothing_seasonal=gamma)\n",
        "    forecast = result.forecast(steps=24)\n",
        "    return forecast"
      ],
      "metadata": {
        "id": "xYgdrOB6yU87"
      },
      "execution_count": 7,
      "outputs": []
    },
    {
      "cell_type": "markdown",
      "source": [
        "Function to calculate MAE"
      ],
      "metadata": {
        "id": "Shu1nUJFybPw"
      }
    },
    {
      "cell_type": "code",
      "source": [
        "def calculate_mae(actual, forecast):\n",
        "    return mean_absolute_error(actual, forecast)"
      ],
      "metadata": {
        "id": "cqDEAxy1yg8H"
      },
      "execution_count": 8,
      "outputs": []
    },
    {
      "cell_type": "markdown",
      "source": [
        "Prameter combination for sensitivity analysis"
      ],
      "metadata": {
        "id": "himqGW4Yym9h"
      }
    },
    {
      "cell_type": "code",
      "source": [
        "alpha_values = [0.1, 0.4, 0.8]\n",
        "beta_values = [0.1, 0.4, 0.8]\n",
        "gamma_values = [0.1, 0.4, 0.8]\n"
      ],
      "metadata": {
        "id": "2YmGEJEpyr91"
      },
      "execution_count": 9,
      "outputs": []
    },
    {
      "cell_type": "markdown",
      "source": [
        "Perform sensitivity analysis"
      ],
      "metadata": {
        "id": "TPQmXjVdyxGI"
      }
    },
    {
      "cell_type": "code",
      "source": [
        "best_mae = float('inf')\n",
        "best_params = None\n",
        "\n",
        "for alpha, beta, gamma in itertools.product(alpha_values, beta_values, gamma_values):\n",
        "    forecast = holt_winters_forecast(alpha, beta, gamma)\n",
        "    mae = calculate_mae(df['demand'], forecast)\n",
        "\n",
        "    print(f'Alpha={alpha}, Beta={beta}, Gamma={gamma}')\n",
        "    print('MAE:', mae)"
      ],
      "metadata": {
        "colab": {
          "base_uri": "https://localhost:8080/"
        },
        "id": "EK5V6BA-y1Hg",
        "outputId": "ef2a6cae-96cc-4e55-e28a-9aa828ba9520"
      },
      "execution_count": 10,
      "outputs": [
        {
          "output_type": "stream",
          "name": "stderr",
          "text": [
            "<ipython-input-7-fcce4267663c>:3: FutureWarning: the 'smoothing_slope'' keyword is deprecated, use 'smoothing_trend' instead.\n",
            "  result = model.fit(smoothing_level=alpha, smoothing_slope=beta, smoothing_seasonal=gamma)\n",
            "<ipython-input-7-fcce4267663c>:3: FutureWarning: the 'smoothing_slope'' keyword is deprecated, use 'smoothing_trend' instead.\n",
            "  result = model.fit(smoothing_level=alpha, smoothing_slope=beta, smoothing_seasonal=gamma)\n",
            "<ipython-input-7-fcce4267663c>:3: FutureWarning: the 'smoothing_slope'' keyword is deprecated, use 'smoothing_trend' instead.\n",
            "  result = model.fit(smoothing_level=alpha, smoothing_slope=beta, smoothing_seasonal=gamma)\n",
            "<ipython-input-7-fcce4267663c>:3: FutureWarning: the 'smoothing_slope'' keyword is deprecated, use 'smoothing_trend' instead.\n",
            "  result = model.fit(smoothing_level=alpha, smoothing_slope=beta, smoothing_seasonal=gamma)\n",
            "<ipython-input-7-fcce4267663c>:3: FutureWarning: the 'smoothing_slope'' keyword is deprecated, use 'smoothing_trend' instead.\n",
            "  result = model.fit(smoothing_level=alpha, smoothing_slope=beta, smoothing_seasonal=gamma)\n",
            "<ipython-input-7-fcce4267663c>:3: FutureWarning: the 'smoothing_slope'' keyword is deprecated, use 'smoothing_trend' instead.\n",
            "  result = model.fit(smoothing_level=alpha, smoothing_slope=beta, smoothing_seasonal=gamma)\n",
            "<ipython-input-7-fcce4267663c>:3: FutureWarning: the 'smoothing_slope'' keyword is deprecated, use 'smoothing_trend' instead.\n",
            "  result = model.fit(smoothing_level=alpha, smoothing_slope=beta, smoothing_seasonal=gamma)\n",
            "<ipython-input-7-fcce4267663c>:3: FutureWarning: the 'smoothing_slope'' keyword is deprecated, use 'smoothing_trend' instead.\n",
            "  result = model.fit(smoothing_level=alpha, smoothing_slope=beta, smoothing_seasonal=gamma)\n",
            "<ipython-input-7-fcce4267663c>:3: FutureWarning: the 'smoothing_slope'' keyword is deprecated, use 'smoothing_trend' instead.\n",
            "  result = model.fit(smoothing_level=alpha, smoothing_slope=beta, smoothing_seasonal=gamma)\n",
            "<ipython-input-7-fcce4267663c>:3: FutureWarning: the 'smoothing_slope'' keyword is deprecated, use 'smoothing_trend' instead.\n",
            "  result = model.fit(smoothing_level=alpha, smoothing_slope=beta, smoothing_seasonal=gamma)\n",
            "<ipython-input-7-fcce4267663c>:3: FutureWarning: the 'smoothing_slope'' keyword is deprecated, use 'smoothing_trend' instead.\n",
            "  result = model.fit(smoothing_level=alpha, smoothing_slope=beta, smoothing_seasonal=gamma)\n",
            "<ipython-input-7-fcce4267663c>:3: FutureWarning: the 'smoothing_slope'' keyword is deprecated, use 'smoothing_trend' instead.\n",
            "  result = model.fit(smoothing_level=alpha, smoothing_slope=beta, smoothing_seasonal=gamma)\n",
            "<ipython-input-7-fcce4267663c>:3: FutureWarning: the 'smoothing_slope'' keyword is deprecated, use 'smoothing_trend' instead.\n",
            "  result = model.fit(smoothing_level=alpha, smoothing_slope=beta, smoothing_seasonal=gamma)\n",
            "<ipython-input-7-fcce4267663c>:3: FutureWarning: the 'smoothing_slope'' keyword is deprecated, use 'smoothing_trend' instead.\n",
            "  result = model.fit(smoothing_level=alpha, smoothing_slope=beta, smoothing_seasonal=gamma)\n"
          ]
        },
        {
          "output_type": "stream",
          "name": "stdout",
          "text": [
            "Alpha=0.1, Beta=0.1, Gamma=0.1\n",
            "MAE: 0.12797802141515355\n",
            "Alpha=0.1, Beta=0.1, Gamma=0.4\n",
            "MAE: 0.12620017329755998\n",
            "Alpha=0.1, Beta=0.1, Gamma=0.8\n",
            "MAE: 0.1383108239711521\n",
            "Alpha=0.1, Beta=0.4, Gamma=0.1\n",
            "MAE: 0.08026099089062938\n",
            "Alpha=0.1, Beta=0.4, Gamma=0.4\n",
            "MAE: 0.08237496832183351\n",
            "Alpha=0.1, Beta=0.4, Gamma=0.8\n",
            "MAE: 0.11178833326446987\n",
            "Alpha=0.1, Beta=0.8, Gamma=0.1\n",
            "MAE: 0.17881842326376565\n",
            "Alpha=0.1, Beta=0.8, Gamma=0.4\n",
            "MAE: 0.2714133176192131\n",
            "Alpha=0.1, Beta=0.8, Gamma=0.8\n",
            "MAE: 0.3419321995058477\n",
            "Alpha=0.4, Beta=0.1, Gamma=0.1\n",
            "MAE: 0.21046715239289218\n",
            "Alpha=0.4, Beta=0.1, Gamma=0.4\n",
            "MAE: 0.22579208156254535\n",
            "Alpha=0.4, Beta=0.1, Gamma=0.8\n",
            "MAE: 0.23400055509483073\n",
            "Alpha=0.4, Beta=0.4, Gamma=0.1\n",
            "MAE: 0.43879342039384817\n",
            "Alpha=0.4, Beta=0.4, Gamma=0.4\n",
            "MAE: 0.36672170645188196\n",
            "Alpha=0.4, Beta=0.4, Gamma=0.8\n",
            "MAE: 0.28455175856032583\n"
          ]
        },
        {
          "output_type": "stream",
          "name": "stderr",
          "text": [
            "<ipython-input-7-fcce4267663c>:3: FutureWarning: the 'smoothing_slope'' keyword is deprecated, use 'smoothing_trend' instead.\n",
            "  result = model.fit(smoothing_level=alpha, smoothing_slope=beta, smoothing_seasonal=gamma)\n",
            "<ipython-input-7-fcce4267663c>:3: FutureWarning: the 'smoothing_slope'' keyword is deprecated, use 'smoothing_trend' instead.\n",
            "  result = model.fit(smoothing_level=alpha, smoothing_slope=beta, smoothing_seasonal=gamma)\n",
            "<ipython-input-7-fcce4267663c>:3: FutureWarning: the 'smoothing_slope'' keyword is deprecated, use 'smoothing_trend' instead.\n",
            "  result = model.fit(smoothing_level=alpha, smoothing_slope=beta, smoothing_seasonal=gamma)\n",
            "<ipython-input-7-fcce4267663c>:3: FutureWarning: the 'smoothing_slope'' keyword is deprecated, use 'smoothing_trend' instead.\n",
            "  result = model.fit(smoothing_level=alpha, smoothing_slope=beta, smoothing_seasonal=gamma)\n",
            "<ipython-input-7-fcce4267663c>:3: FutureWarning: the 'smoothing_slope'' keyword is deprecated, use 'smoothing_trend' instead.\n",
            "  result = model.fit(smoothing_level=alpha, smoothing_slope=beta, smoothing_seasonal=gamma)\n",
            "<ipython-input-7-fcce4267663c>:3: FutureWarning: the 'smoothing_slope'' keyword is deprecated, use 'smoothing_trend' instead.\n",
            "  result = model.fit(smoothing_level=alpha, smoothing_slope=beta, smoothing_seasonal=gamma)\n",
            "<ipython-input-7-fcce4267663c>:3: FutureWarning: the 'smoothing_slope'' keyword is deprecated, use 'smoothing_trend' instead.\n",
            "  result = model.fit(smoothing_level=alpha, smoothing_slope=beta, smoothing_seasonal=gamma)\n",
            "<ipython-input-7-fcce4267663c>:3: FutureWarning: the 'smoothing_slope'' keyword is deprecated, use 'smoothing_trend' instead.\n",
            "  result = model.fit(smoothing_level=alpha, smoothing_slope=beta, smoothing_seasonal=gamma)\n",
            "<ipython-input-7-fcce4267663c>:3: FutureWarning: the 'smoothing_slope'' keyword is deprecated, use 'smoothing_trend' instead.\n",
            "  result = model.fit(smoothing_level=alpha, smoothing_slope=beta, smoothing_seasonal=gamma)\n",
            "<ipython-input-7-fcce4267663c>:3: FutureWarning: the 'smoothing_slope'' keyword is deprecated, use 'smoothing_trend' instead.\n",
            "  result = model.fit(smoothing_level=alpha, smoothing_slope=beta, smoothing_seasonal=gamma)\n",
            "<ipython-input-7-fcce4267663c>:3: FutureWarning: the 'smoothing_slope'' keyword is deprecated, use 'smoothing_trend' instead.\n",
            "  result = model.fit(smoothing_level=alpha, smoothing_slope=beta, smoothing_seasonal=gamma)\n",
            "<ipython-input-7-fcce4267663c>:3: FutureWarning: the 'smoothing_slope'' keyword is deprecated, use 'smoothing_trend' instead.\n",
            "  result = model.fit(smoothing_level=alpha, smoothing_slope=beta, smoothing_seasonal=gamma)\n",
            "<ipython-input-7-fcce4267663c>:3: FutureWarning: the 'smoothing_slope'' keyword is deprecated, use 'smoothing_trend' instead.\n",
            "  result = model.fit(smoothing_level=alpha, smoothing_slope=beta, smoothing_seasonal=gamma)\n"
          ]
        },
        {
          "output_type": "stream",
          "name": "stdout",
          "text": [
            "Alpha=0.4, Beta=0.8, Gamma=0.1\n",
            "MAE: 0.19636863324766354\n",
            "Alpha=0.4, Beta=0.8, Gamma=0.4\n",
            "MAE: 0.35504623414219266\n",
            "Alpha=0.4, Beta=0.8, Gamma=0.8\n",
            "MAE: 0.3049695442325469\n",
            "Alpha=0.8, Beta=0.1, Gamma=0.1\n",
            "MAE: 0.19159234247225054\n",
            "Alpha=0.8, Beta=0.1, Gamma=0.4\n",
            "MAE: 0.1561045754319749\n",
            "Alpha=0.8, Beta=0.1, Gamma=0.8\n",
            "MAE: 0.1633383445379441\n",
            "Alpha=0.8, Beta=0.4, Gamma=0.1\n",
            "MAE: 0.19093843988602133\n",
            "Alpha=0.8, Beta=0.4, Gamma=0.4\n",
            "MAE: 0.2641864987412108\n",
            "Alpha=0.8, Beta=0.4, Gamma=0.8\n",
            "MAE: 0.2204005691962114\n",
            "Alpha=0.8, Beta=0.8, Gamma=0.1\n",
            "MAE: 0.9175849967456816\n",
            "Alpha=0.8, Beta=0.8, Gamma=0.4\n",
            "MAE: 0.9078233334046133\n",
            "Alpha=0.8, Beta=0.8, Gamma=0.8\n",
            "MAE: 0.7065791942197848\n"
          ]
        }
      ]
    },
    {
      "cell_type": "markdown",
      "source": [
        "plotting actual vs. forcasted"
      ],
      "metadata": {
        "id": "0-XgbRYk7I5V"
      }
    },
    {
      "cell_type": "markdown",
      "source": [
        "Best parameter if the current combination yiels a lower MAE"
      ],
      "metadata": {
        "id": "aD10rY-i7bcl"
      }
    },
    {
      "cell_type": "code",
      "source": [
        " if mae < best_mae:\n",
        "        best_mae = mae\n",
        "        best_params = (alpha, beta, gamma)\n",
        "\n",
        "print(f'Best Parameters: Alpha={best_params[0]}, Beta={best_params[1]}, Gamma={best_params[2]}')"
      ],
      "metadata": {
        "colab": {
          "base_uri": "https://localhost:8080/"
        },
        "id": "90FDMAvm7u4h",
        "outputId": "c837914c-2e42-43a3-a19e-07cbc4120ebd"
      },
      "execution_count": 11,
      "outputs": [
        {
          "output_type": "stream",
          "name": "stdout",
          "text": [
            "Best Parameters: Alpha=0.8, Beta=0.8, Gamma=0.8\n"
          ]
        }
      ]
    },
    {
      "cell_type": "code",
      "source": [],
      "metadata": {
        "id": "Z4tgTC2-JGVo"
      },
      "execution_count": 11,
      "outputs": []
    },
    {
      "cell_type": "code",
      "source": [
        "    plt.figure(figsize=(10, 6))\n",
        "    plt.plot(df.index, df['demand'], label='Actual Demand', marker='o')\n",
        "   # x = df.index[-1] + pd.DateOffset(months=1) + pd.date_range(start=df.index[-1] + pd.DateOffset(months=1), periods=24, freq='M')\n",
        "\n",
        "\n",
        ""
      ],
      "metadata": {
        "colab": {
          "base_uri": "https://localhost:8080/",
          "height": 539
        },
        "id": "cSugX-NA6AhQ",
        "outputId": "60772a39-0076-480d-d7d8-130b9b438651"
      },
      "execution_count": 12,
      "outputs": [
        {
          "output_type": "execute_result",
          "data": {
            "text/plain": [
              "[<matplotlib.lines.Line2D at 0x7bd8c57df6a0>]"
            ]
          },
          "metadata": {},
          "execution_count": 12
        },
        {
          "output_type": "display_data",
          "data": {
            "text/plain": [
              "<Figure size 1000x600 with 1 Axes>"
            ],
            "image/png": "[encoded data removed]"
          },
          "metadata": {}
        }
      ]
    },
    {
      "cell_type": "code",
      "source": [
        "    #x = df.index[-1] + pd.DateOffset(months=1)\n",
        "    #x = x.date()\n",
        "   # print(x)\n",
        "    y = pd.date_range(start = df.index[-1] + pd.DateOffset(month = 1), periods=24, freq='M')\n",
        "    print(y)\n",
        "   # y = y + x\n",
        "    plt.plot(y, forecast, label='Forecasted Demand', marker='o')\n",
        "    plt.title(f'Holt-Winters Forecasting - Alpha={alpha}, Beta={beta}, Gamma={gamma}')\n",
        "    plt.xlabel('Time')\n",
        "    plt.ylabel('Demand')\n",
        "    plt.legend()\n",
        "    plt.show()\n",
        "\n",
        "    print('\\n')"
      ],
      "metadata": {
        "colab": {
          "base_uri": "https://localhost:8080/",
          "height": 628
        },
        "id": "eVMAzKMNJU7W",
        "outputId": "9388a807-1a1d-45c4-e10a-93f3e77f42f6"
      },
      "execution_count": 13,
      "outputs": [
        {
          "output_type": "stream",
          "name": "stdout",
          "text": [
            "DatetimeIndex(['2023-01-31', '2023-02-28', '2023-03-31', '2023-04-30',\n",
            "               '2023-05-31', '2023-06-30', '2023-07-31', '2023-08-31',\n",
            "               '2023-09-30', '2023-10-31', '2023-11-30', '2023-12-31',\n",
            "               '2024-01-31', '2024-02-29', '2024-03-31', '2024-04-30',\n",
            "               '2024-05-31', '2024-06-30', '2024-07-31', '2024-08-31',\n",
            "               '2024-09-30', '2024-10-31', '2024-11-30', '2024-12-31'],\n",
            "              dtype='datetime64[ns]', freq='M')\n"
          ]
        },
        {
          "output_type": "display_data",
          "data": {
            "text/plain": [
              "<Figure size 640x480 with 1 Axes>"
            ],
            "image/png": "[encoded data removed]"
          },
          "metadata": {}
        },
        {
          "output_type": "stream",
          "name": "stdout",
          "text": [
            "\n",
            "\n"
          ]
        }
      ]
    },
    {
      "cell_type": "markdown",
      "source": [
        "calculate residuals"
      ],
      "metadata": {
        "id": "tMZDKh1nM_v5"
      }
    },
    {
      "cell_type": "code",
      "source": [
        "import matplotlib.pyplot as plt"
      ],
      "metadata": {
        "id": "YFiu7tFFQTWc"
      },
      "execution_count": 14,
      "outputs": []
    },
    {
      "cell_type": "code",
      "source": [
        "residuals = df['demand'] - forecast\n",
        "print(df['demand'])\n",
        "print(forecast)\n",
        "print(residuals)"
      ],
      "metadata": {
        "id": "pS9xTl3cNGdp",
        "colab": {
          "base_uri": "https://localhost:8080/"
        },
        "outputId": "39e5d2b8-b265-4327-f201-ec34b7afc8b1"
      },
      "execution_count": 20,
      "outputs": [
        {
          "output_type": "stream",
          "name": "stdout",
          "text": [
            "2022-01-31    1.465\n",
            "2022-02-28    1.457\n",
            "2022-03-31    1.832\n",
            "2022-04-30    2.009\n",
            "2022-05-31    2.131\n",
            "2022-06-30    2.012\n",
            "2022-07-31    1.893\n",
            "2022-08-31    1.821\n",
            "2022-09-30    1.585\n",
            "2022-10-31    1.600\n",
            "2022-11-30    1.756\n",
            "2022-12-31    2.021\n",
            "2023-01-31    1.752\n",
            "2023-02-28    1.824\n",
            "2023-03-31    1.890\n",
            "2023-04-30    1.998\n",
            "2023-05-31    1.965\n",
            "2023-06-30    1.910\n",
            "2023-07-31    1.894\n",
            "2023-08-31    1.653\n",
            "2023-09-30    1.896\n",
            "2023-10-31    1.688\n",
            "2023-11-30    1.932\n",
            "2023-12-31    2.010\n",
            "Freq: M, Name: demand, dtype: float64\n",
            "2024-01-31    1.674638\n",
            "2024-02-29    1.690234\n",
            "2024-03-31    1.644579\n",
            "2024-04-30    1.825928\n",
            "2024-05-31    1.736702\n",
            "2024-06-30    1.666107\n",
            "2024-07-31    1.530967\n",
            "2024-08-31    1.164839\n",
            "2024-09-30    1.433220\n",
            "2024-10-31    0.949048\n",
            "2024-11-30    1.276427\n",
            "2024-12-31    1.363919\n",
            "2025-01-31    1.008690\n",
            "2025-02-28    1.024286\n",
            "2025-03-31    0.978631\n",
            "2025-04-30    1.159980\n",
            "2025-05-31    1.070754\n",
            "2025-06-30    1.000159\n",
            "2025-07-31    0.865019\n",
            "2025-08-31    0.498891\n",
            "2025-09-30    0.767272\n",
            "2025-10-31    0.283100\n",
            "2025-11-30    0.610480\n",
            "2025-12-31    0.697972\n",
            "Freq: M, dtype: float64\n",
            "2022-01-31   NaN\n",
            "2022-02-28   NaN\n",
            "2022-03-31   NaN\n",
            "2022-04-30   NaN\n",
            "2022-05-31   NaN\n",
            "2022-06-30   NaN\n",
            "2022-07-31   NaN\n",
            "2022-08-31   NaN\n",
            "2022-09-30   NaN\n",
            "2022-10-31   NaN\n",
            "2022-11-30   NaN\n",
            "2022-12-31   NaN\n",
            "2023-01-31   NaN\n",
            "2023-02-28   NaN\n",
            "2023-03-31   NaN\n",
            "2023-04-30   NaN\n",
            "2023-05-31   NaN\n",
            "2023-06-30   NaN\n",
            "2023-07-31   NaN\n",
            "2023-08-31   NaN\n",
            "2023-09-30   NaN\n",
            "2023-10-31   NaN\n",
            "2023-11-30   NaN\n",
            "2023-12-31   NaN\n",
            "2024-01-31   NaN\n",
            "2024-02-29   NaN\n",
            "2024-03-31   NaN\n",
            "2024-04-30   NaN\n",
            "2024-05-31   NaN\n",
            "2024-06-30   NaN\n",
            "2024-07-31   NaN\n",
            "2024-08-31   NaN\n",
            "2024-09-30   NaN\n",
            "2024-10-31   NaN\n",
            "2024-11-30   NaN\n",
            "2024-12-31   NaN\n",
            "2025-01-31   NaN\n",
            "2025-02-28   NaN\n",
            "2025-03-31   NaN\n",
            "2025-04-30   NaN\n",
            "2025-05-31   NaN\n",
            "2025-06-30   NaN\n",
            "2025-07-31   NaN\n",
            "2025-08-31   NaN\n",
            "2025-09-30   NaN\n",
            "2025-10-31   NaN\n",
            "2025-11-30   NaN\n",
            "2025-12-31   NaN\n",
            "Freq: M, dtype: float64\n"
          ]
        }
      ]
    },
    {
      "cell_type": "code",
      "source": [
        "if len(df['demand']) != len(forecast):\n",
        "    raise ValueError(\"Length mismatch between df['demand'] and forecast\")"
      ],
      "metadata": {
        "id": "v_DuS5_-PbMa"
      },
      "execution_count": 16,
      "outputs": []
    },
    {
      "cell_type": "markdown",
      "source": [
        "Plot residuals over time"
      ],
      "metadata": {
        "id": "sxLNe_tENWrS"
      }
    },
    {
      "cell_type": "code",
      "source": [
        "plt.figure(figsize=(10, 6))\n",
        "plt.plot(df.index, residuals, label='Residuals', marker='o')\n",
        "plt.axhline(0, color='red', linestyle='--', label='Zero Residuals')\n",
        "plt.title('Residual Plot')\n",
        "plt.xlabel('Time')\n",
        "plt.ylabel('Residuals')\n",
        "plt.legend()\n",
        "plt.show()"
      ],
      "metadata": {
        "colab": {
          "base_uri": "https://localhost:8080/",
          "height": 902
        },
        "id": "MAU6kspeNPhM",
        "outputId": "4322eb95-d0ce-46bc-a417-d774044eeb4e"
      },
      "execution_count": 17,
      "outputs": [
        {
          "output_type": "error",
          "ename": "ValueError",
          "evalue": "ignored",
          "traceback": [
            "\u001b[0;31m---------------------------------------------------------------------------\u001b[0m",
            "\u001b[0;31mValueError\u001b[0m                                Traceback (most recent call last)",
            "\u001b[0;32m<ipython-input-17-1d1712bc18d5>\u001b[0m in \u001b[0;36m<cell line: 2>\u001b[0;34m()\u001b[0m\n\u001b[1;32m      1\u001b[0m \u001b[0mplt\u001b[0m\u001b[0;34m.\u001b[0m\u001b[0mfigure\u001b[0m\u001b[0;34m(\u001b[0m\u001b[0mfigsize\u001b[0m\u001b[0;34m=\u001b[0m\u001b[0;34m(\u001b[0m\u001b[0;36m10\u001b[0m\u001b[0;34m,\u001b[0m \u001b[0;36m6\u001b[0m\u001b[0;34m)\u001b[0m\u001b[0;34m)\u001b[0m\u001b[0;34m\u001b[0m\u001b[0;34m\u001b[0m\u001b[0m\n\u001b[0;32m----> 2\u001b[0;31m \u001b[0mplt\u001b[0m\u001b[0;34m.\u001b[0m\u001b[0mplot\u001b[0m\u001b[0;34m(\u001b[0m\u001b[0mdf\u001b[0m\u001b[0;34m.\u001b[0m\u001b[0mindex\u001b[0m\u001b[0;34m,\u001b[0m \u001b[0mresiduals\u001b[0m\u001b[0;34m,\u001b[0m \u001b[0mlabel\u001b[0m\u001b[0;34m=\u001b[0m\u001b[0;34m'Residuals'\u001b[0m\u001b[0;34m,\u001b[0m \u001b[0mmarker\u001b[0m\u001b[0;34m=\u001b[0m\u001b[0;34m'o'\u001b[0m\u001b[0;34m)\u001b[0m\u001b[0;34m\u001b[0m\u001b[0;34m\u001b[0m\u001b[0m\n\u001b[0m\u001b[1;32m      3\u001b[0m \u001b[0mplt\u001b[0m\u001b[0;34m.\u001b[0m\u001b[0maxhline\u001b[0m\u001b[0;34m(\u001b[0m\u001b[0;36m0\u001b[0m\u001b[0;34m,\u001b[0m \u001b[0mcolor\u001b[0m\u001b[0;34m=\u001b[0m\u001b[0;34m'red'\u001b[0m\u001b[0;34m,\u001b[0m \u001b[0mlinestyle\u001b[0m\u001b[0;34m=\u001b[0m\u001b[0;34m'--'\u001b[0m\u001b[0;34m,\u001b[0m \u001b[0mlabel\u001b[0m\u001b[0;34m=\u001b[0m\u001b[0;34m'Zero Residuals'\u001b[0m\u001b[0;34m)\u001b[0m\u001b[0;34m\u001b[0m\u001b[0;34m\u001b[0m\u001b[0m\n\u001b[1;32m      4\u001b[0m \u001b[0mplt\u001b[0m\u001b[0;34m.\u001b[0m\u001b[0mtitle\u001b[0m\u001b[0;34m(\u001b[0m\u001b[0;34m'Residual Plot'\u001b[0m\u001b[0;34m)\u001b[0m\u001b[0;34m\u001b[0m\u001b[0;34m\u001b[0m\u001b[0m\n\u001b[1;32m      5\u001b[0m \u001b[0mplt\u001b[0m\u001b[0;34m.\u001b[0m\u001b[0mxlabel\u001b[0m\u001b[0;34m(\u001b[0m\u001b[0;34m'Time'\u001b[0m\u001b[0;34m)\u001b[0m\u001b[0;34m\u001b[0m\u001b[0;34m\u001b[0m\u001b[0m\n",
            "\u001b[0;32m/usr/local/lib/python3.10/dist-packages/matplotlib/pyplot.py\u001b[0m in \u001b[0;36mplot\u001b[0;34m(scalex, scaley, data, *args, **kwargs)\u001b[0m\n\u001b[1;32m   2810\u001b[0m \u001b[0;34m@\u001b[0m\u001b[0m_copy_docstring_and_deprecators\u001b[0m\u001b[0;34m(\u001b[0m\u001b[0mAxes\u001b[0m\u001b[0;34m.\u001b[0m\u001b[0mplot\u001b[0m\u001b[0;34m)\u001b[0m\u001b[0;34m\u001b[0m\u001b[0;34m\u001b[0m\u001b[0m\n\u001b[1;32m   2811\u001b[0m \u001b[0;32mdef\u001b[0m \u001b[0mplot\u001b[0m\u001b[0;34m(\u001b[0m\u001b[0;34m*\u001b[0m\u001b[0margs\u001b[0m\u001b[0;34m,\u001b[0m \u001b[0mscalex\u001b[0m\u001b[0;34m=\u001b[0m\u001b[0;32mTrue\u001b[0m\u001b[0;34m,\u001b[0m \u001b[0mscaley\u001b[0m\u001b[0;34m=\u001b[0m\u001b[0;32mTrue\u001b[0m\u001b[0;34m,\u001b[0m \u001b[0mdata\u001b[0m\u001b[0;34m=\u001b[0m\u001b[0;32mNone\u001b[0m\u001b[0;34m,\u001b[0m \u001b[0;34m**\u001b[0m\u001b[0mkwargs\u001b[0m\u001b[0;34m)\u001b[0m\u001b[0;34m:\u001b[0m\u001b[0;34m\u001b[0m\u001b[0;34m\u001b[0m\u001b[0m\n\u001b[0;32m-> 2812\u001b[0;31m     return gca().plot(\n\u001b[0m\u001b[1;32m   2813\u001b[0m         \u001b[0;34m*\u001b[0m\u001b[0margs\u001b[0m\u001b[0;34m,\u001b[0m \u001b[0mscalex\u001b[0m\u001b[0;34m=\u001b[0m\u001b[0mscalex\u001b[0m\u001b[0;34m,\u001b[0m \u001b[0mscaley\u001b[0m\u001b[0;34m=\u001b[0m\u001b[0mscaley\u001b[0m\u001b[0;34m,\u001b[0m\u001b[0;34m\u001b[0m\u001b[0;34m\u001b[0m\u001b[0m\n\u001b[1;32m   2814\u001b[0m         **({\"data\": data} if data is not None else {}), **kwargs)\n",
            "\u001b[0;32m/usr/local/lib/python3.10/dist-packages/matplotlib/axes/_axes.py\u001b[0m in \u001b[0;36mplot\u001b[0;34m(self, scalex, scaley, data, *args, **kwargs)\u001b[0m\n\u001b[1;32m   1686\u001b[0m         \"\"\"\n\u001b[1;32m   1687\u001b[0m         \u001b[0mkwargs\u001b[0m \u001b[0;34m=\u001b[0m \u001b[0mcbook\u001b[0m\u001b[0;34m.\u001b[0m\u001b[0mnormalize_kwargs\u001b[0m\u001b[0;34m(\u001b[0m\u001b[0mkwargs\u001b[0m\u001b[0;34m,\u001b[0m \u001b[0mmlines\u001b[0m\u001b[0;34m.\u001b[0m\u001b[0mLine2D\u001b[0m\u001b[0;34m)\u001b[0m\u001b[0;34m\u001b[0m\u001b[0;34m\u001b[0m\u001b[0m\n\u001b[0;32m-> 1688\u001b[0;31m         \u001b[0mlines\u001b[0m \u001b[0;34m=\u001b[0m \u001b[0;34m[\u001b[0m\u001b[0;34m*\u001b[0m\u001b[0mself\u001b[0m\u001b[0;34m.\u001b[0m\u001b[0m_get_lines\u001b[0m\u001b[0;34m(\u001b[0m\u001b[0;34m*\u001b[0m\u001b[0margs\u001b[0m\u001b[0;34m,\u001b[0m \u001b[0mdata\u001b[0m\u001b[0;34m=\u001b[0m\u001b[0mdata\u001b[0m\u001b[0;34m,\u001b[0m \u001b[0;34m**\u001b[0m\u001b[0mkwargs\u001b[0m\u001b[0;34m)\u001b[0m\u001b[0;34m]\u001b[0m\u001b[0;34m\u001b[0m\u001b[0;34m\u001b[0m\u001b[0m\n\u001b[0m\u001b[1;32m   1689\u001b[0m         \u001b[0;32mfor\u001b[0m \u001b[0mline\u001b[0m \u001b[0;32min\u001b[0m \u001b[0mlines\u001b[0m\u001b[0;34m:\u001b[0m\u001b[0;34m\u001b[0m\u001b[0;34m\u001b[0m\u001b[0m\n\u001b[1;32m   1690\u001b[0m             \u001b[0mself\u001b[0m\u001b[0;34m.\u001b[0m\u001b[0madd_line\u001b[0m\u001b[0;34m(\u001b[0m\u001b[0mline\u001b[0m\u001b[0;34m)\u001b[0m\u001b[0;34m\u001b[0m\u001b[0;34m\u001b[0m\u001b[0m\n",
            "\u001b[0;32m/usr/local/lib/python3.10/dist-packages/matplotlib/axes/_base.py\u001b[0m in \u001b[0;36m__call__\u001b[0;34m(self, data, *args, **kwargs)\u001b[0m\n\u001b[1;32m    309\u001b[0m                 \u001b[0mthis\u001b[0m \u001b[0;34m+=\u001b[0m \u001b[0margs\u001b[0m\u001b[0;34m[\u001b[0m\u001b[0;36m0\u001b[0m\u001b[0;34m]\u001b[0m\u001b[0;34m,\u001b[0m\u001b[0;34m\u001b[0m\u001b[0;34m\u001b[0m\u001b[0m\n\u001b[1;32m    310\u001b[0m                 \u001b[0margs\u001b[0m \u001b[0;34m=\u001b[0m \u001b[0margs\u001b[0m\u001b[0;34m[\u001b[0m\u001b[0;36m1\u001b[0m\u001b[0;34m:\u001b[0m\u001b[0;34m]\u001b[0m\u001b[0;34m\u001b[0m\u001b[0;34m\u001b[0m\u001b[0m\n\u001b[0;32m--> 311\u001b[0;31m             yield from self._plot_args(\n\u001b[0m\u001b[1;32m    312\u001b[0m                 this, kwargs, ambiguous_fmt_datakey=ambiguous_fmt_datakey)\n\u001b[1;32m    313\u001b[0m \u001b[0;34m\u001b[0m\u001b[0m\n",
            "\u001b[0;32m/usr/local/lib/python3.10/dist-packages/matplotlib/axes/_base.py\u001b[0m in \u001b[0;36m_plot_args\u001b[0;34m(self, tup, kwargs, return_kwargs, ambiguous_fmt_datakey)\u001b[0m\n\u001b[1;32m    502\u001b[0m \u001b[0;34m\u001b[0m\u001b[0m\n\u001b[1;32m    503\u001b[0m         \u001b[0;32mif\u001b[0m \u001b[0mx\u001b[0m\u001b[0;34m.\u001b[0m\u001b[0mshape\u001b[0m\u001b[0;34m[\u001b[0m\u001b[0;36m0\u001b[0m\u001b[0;34m]\u001b[0m \u001b[0;34m!=\u001b[0m \u001b[0my\u001b[0m\u001b[0;34m.\u001b[0m\u001b[0mshape\u001b[0m\u001b[0;34m[\u001b[0m\u001b[0;36m0\u001b[0m\u001b[0;34m]\u001b[0m\u001b[0;34m:\u001b[0m\u001b[0;34m\u001b[0m\u001b[0;34m\u001b[0m\u001b[0m\n\u001b[0;32m--> 504\u001b[0;31m             raise ValueError(f\"x and y must have same first dimension, but \"\n\u001b[0m\u001b[1;32m    505\u001b[0m                              f\"have shapes {x.shape} and {y.shape}\")\n\u001b[1;32m    506\u001b[0m         \u001b[0;32mif\u001b[0m \u001b[0mx\u001b[0m\u001b[0;34m.\u001b[0m\u001b[0mndim\u001b[0m \u001b[0;34m>\u001b[0m \u001b[0;36m2\u001b[0m \u001b[0;32mor\u001b[0m \u001b[0my\u001b[0m\u001b[0;34m.\u001b[0m\u001b[0mndim\u001b[0m \u001b[0;34m>\u001b[0m \u001b[0;36m2\u001b[0m\u001b[0;34m:\u001b[0m\u001b[0;34m\u001b[0m\u001b[0;34m\u001b[0m\u001b[0m\n",
            "\u001b[0;31mValueError\u001b[0m: x and y must have same first dimension, but have shapes (24,) and (48,)"
          ]
        },
        {
          "output_type": "display_data",
          "data": {
            "text/plain": [
              "<Figure size 1000x600 with 1 Axes>"
            ],
            "image/png": "[encoded data removed]"
          },
          "metadata": {}
        }
      ]
    }
  ]
}